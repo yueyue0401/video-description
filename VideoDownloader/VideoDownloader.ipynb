{
 "cells": [
  {
   "cell_type": "code",
   "execution_count": 2,
   "id": "b8bce7b2",
   "metadata": {},
   "outputs": [],
   "source": [
    "# import requests\n",
    "import json\n",
    "from pytube import YouTube"
   ]
  },
  {
   "cell_type": "code",
   "execution_count": 3,
   "id": "8d6b49d9",
   "metadata": {},
   "outputs": [
    {
     "data": {
      "text/plain": [
       "list"
      ]
     },
     "execution_count": 3,
     "metadata": {},
     "output_type": "execute_result"
    }
   ],
   "source": [
    "f_train_ids = open('train_ids.json')\n",
    "train_ids = json.load(f_train_ids)\n",
    "f_train_ids.close()\n",
    "type(train_ids)"
   ]
  },
  {
   "cell_type": "code",
   "execution_count": 4,
   "id": "c61a935a",
   "metadata": {},
   "outputs": [],
   "source": [
    "youtube_url = \"https://www.youtube.com/watch?v=\"\n",
    "train_video_url = \"train_videos/\"\n",
    "test_video_url = \"test_videos/\""
   ]
  },
  {
   "cell_type": "code",
   "execution_count": 5,
   "id": "d1b148c9",
   "metadata": {},
   "outputs": [],
   "source": [
    "def download_videos(url, path):\n",
    "    yt = YouTube(url)\n",
    "    yt.streams.filter(file_extension=\"mp4\").get_by_resolution(\"360p\").download(path)"
   ]
  },
  {
   "cell_type": "code",
   "execution_count": 8,
   "id": "72b72708",
   "metadata": {},
   "outputs": [
    {
     "name": "stdout",
     "output_type": "stream",
     "text": [
      "https://www.youtube.com/watch?v=sJFgo9H6zNo\n",
      "https://www.youtube.com/watch?v=u2uoYvo8J5s\n",
      "https://www.youtube.com/watch?v=--0edUL8zmA\n",
      "https://www.youtube.com/watch?v=c_NlYvL96y0\n",
      "https://www.youtube.com/watch?v=hHiPEAiYKv0\n",
      "https://www.youtube.com/watch?v=GCtrfXIBbwA\n",
      "https://www.youtube.com/watch?v=rs7er4e67ec\n",
      "https://www.youtube.com/watch?v=6ZabZdqdLyA\n",
      "Video is unavailabe\n",
      "https://www.youtube.com/watch?v=yUSo_xjyGhM\n",
      "https://www.youtube.com/watch?v=Ou24uqaFRPg\n"
     ]
    }
   ],
   "source": [
    "count = 0\n",
    "\n",
    "for train_id in train_ids:\n",
    "    download_url = youtube_url + train_id[2:]\n",
    "    print(download_url)\n",
    "    \n",
    "    try:\n",
    "        download_videos(download_url, train_video_url)\n",
    "    except:\n",
    "        print('Video is unavailabe')\n",
    "    \n",
    "    count += 1\n",
    "    if count == 10:\n",
    "        break\n",
    "    "
   ]
  },
  {
   "cell_type": "code",
   "execution_count": 8,
   "id": "79a7655d",
   "metadata": {},
   "outputs": [],
   "source": [
    "download_videos(youtube_url + 'x4Bs7u61AMQ&ab_channel=NBA', './')"
   ]
  },
  {
   "cell_type": "code",
   "execution_count": 11,
   "id": "0973f8bb",
   "metadata": {},
   "outputs": [
    {
     "name": "stderr",
     "output_type": "stream",
     "text": [
      "ffmpeg version 5.0.1 Copyright (c) 2000-2022 the FFmpeg developers\n",
      "  built with Apple clang version 13.1.6 (clang-1316.0.21.2.5)\n",
      "  configuration: --prefix=/opt/homebrew/Cellar/ffmpeg/5.0.1_2 --enable-shared --enable-pthreads --enable-version3 --cc=clang --host-cflags= --host-ldflags= --enable-ffplay --enable-gnutls --enable-gpl --enable-libaom --enable-libbluray --enable-libdav1d --enable-libmp3lame --enable-libopus --enable-librav1e --enable-librist --enable-librubberband --enable-libsnappy --enable-libsrt --enable-libtesseract --enable-libtheora --enable-libvidstab --enable-libvmaf --enable-libvorbis --enable-libvpx --enable-libwebp --enable-libx264 --enable-libx265 --enable-libxml2 --enable-libxvid --enable-lzma --enable-libfontconfig --enable-libfreetype --enable-frei0r --enable-libass --enable-libopencore-amrnb --enable-libopencore-amrwb --enable-libopenjpeg --enable-libspeex --enable-libsoxr --enable-libzmq --enable-libzimg --disable-libjack --disable-indev=jack --enable-videotoolbox --enable-neon\n",
      "  libavutil      57. 17.100 / 57. 17.100\n",
      "  libavcodec     59. 18.100 / 59. 18.100\n",
      "  libavformat    59. 16.100 / 59. 16.100\n",
      "  libavdevice    59.  4.100 / 59.  4.100\n",
      "  libavfilter     8. 24.100 /  8. 24.100\n",
      "  libswscale      6.  4.100 /  6.  4.100\n",
      "  libswresample   4.  3.100 /  4.  3.100\n",
      "  libpostproc    56.  3.100 / 56.  3.100\n",
      "Input #0, mov,mp4,m4a,3gp,3g2,mj2, from './x4Bs7u61AMQ.mp4':\n",
      "  Metadata:\n",
      "    major_brand     : mp42\n",
      "    minor_version   : 0\n",
      "    compatible_brands: isommp42\n",
      "    creation_time   : 2015-01-15T16:59:35.000000Z\n",
      "  Duration: 00:01:05.22, start: 0.000000, bitrate: 737 kb/s\n",
      "  Stream #0:0[0x1](und): Video: h264 (Constrained Baseline) (avc1 / 0x31637661), yuv420p(progressive), 640x360 [SAR 1:1 DAR 16:9], 639 kb/s, 29.97 fps, 29.97 tbr, 30k tbn (default)\n",
      "    Metadata:\n",
      "      handler_name    : VideoHandler\n",
      "      vendor_id       : [0][0][0][0]\n",
      "  Stream #0:1[0x2](und): Audio: aac (LC) (mp4a / 0x6134706D), 44100 Hz, stereo, fltp, 95 kb/s (default)\n",
      "    Metadata:\n",
      "      creation_time   : 2015-01-15T16:59:35.000000Z\n",
      "      handler_name    : IsoMedia File Produced by Google, 5-11-2011\n",
      "      vendor_id       : [0][0][0][0]\n",
      "Stream mapping:\n",
      "  Stream #0:1 -> #0:0 (aac (native) -> pcm_s16le (native))\n",
      "Press [q] to stop, [?] for help\n",
      "Output #0, wav, to 'audio.wav':\n",
      "  Metadata:\n",
      "    major_brand     : mp42\n",
      "    minor_version   : 0\n",
      "    compatible_brands: isommp42\n",
      "    ISFT            : Lavf59.16.100\n",
      "  Stream #0:0(und): Audio: pcm_s16le ([1][0][0][0] / 0x0001), 44100 Hz, stereo, s16, 1411 kb/s (default)\n",
      "    Metadata:\n",
      "      creation_time   : 2015-01-15T16:59:35.000000Z\n",
      "      handler_name    : IsoMedia File Produced by Google, 5-11-2011\n",
      "      vendor_id       : [0][0][0][0]\n",
      "      encoder         : Lavc59.18.100 pcm_s16le\n",
      "size=       4kB time=00:00:00.02 bitrate=1438.1kbits/s speed=1.11e+03x    \r",
      "size=   11236kB time=00:01:05.22 bitrate=1411.2kbits/s speed=2e+03x    \n",
      "video:0kB audio:11236kB subtitle:0kB other streams:0kB global headers:0kB muxing overhead: 0.000678%\n"
     ]
    },
    {
     "data": {
      "text/plain": [
       "0"
      ]
     },
     "execution_count": 11,
     "metadata": {},
     "output_type": "execute_result"
    }
   ],
   "source": [
    "import subprocess\n",
    "\n",
    "command = \"ffmpeg -i ./x4Bs7u61AMQ.mp4 -ab 160k -ac 2 -ar 44100 -vn audio.wav\"\n",
    "\n",
    "subprocess.call(command, shell=True)"
   ]
  },
  {
   "cell_type": "code",
   "execution_count": 15,
   "id": "9b1a69ad",
   "metadata": {},
   "outputs": [
    {
     "name": "stderr",
     "output_type": "stream",
     "text": [
      "ffmpeg version 5.0.1 Copyright (c) 2000-2022 the FFmpeg developers\n",
      "  built with Apple clang version 13.1.6 (clang-1316.0.21.2.5)\n",
      "  configuration: --prefix=/opt/homebrew/Cellar/ffmpeg/5.0.1_2 --enable-shared --enable-pthreads --enable-version3 --cc=clang --host-cflags= --host-ldflags= --enable-ffplay --enable-gnutls --enable-gpl --enable-libaom --enable-libbluray --enable-libdav1d --enable-libmp3lame --enable-libopus --enable-librav1e --enable-librist --enable-librubberband --enable-libsnappy --enable-libsrt --enable-libtesseract --enable-libtheora --enable-libvidstab --enable-libvmaf --enable-libvorbis --enable-libvpx --enable-libwebp --enable-libx264 --enable-libx265 --enable-libxml2 --enable-libxvid --enable-lzma --enable-libfontconfig --enable-libfreetype --enable-frei0r --enable-libass --enable-libopencore-amrnb --enable-libopencore-amrwb --enable-libopenjpeg --enable-libspeex --enable-libsoxr --enable-libzmq --enable-libzimg --disable-libjack --disable-indev=jack --enable-videotoolbox --enable-neon\n",
      "  libavutil      57. 17.100 / 57. 17.100\n",
      "  libavcodec     59. 18.100 / 59. 18.100\n",
      "  libavformat    59. 16.100 / 59. 16.100\n",
      "  libavdevice    59.  4.100 / 59.  4.100\n",
      "  libavfilter     8. 24.100 /  8. 24.100\n",
      "  libswscale      6.  4.100 /  6.  4.100\n",
      "  libswresample   4.  3.100 /  4.  3.100\n",
      "  libpostproc    56.  3.100 / 56.  3.100\n",
      "Guessed Channel Layout for Input Stream #0.0 : stereo\n",
      "Input #0, wav, from '../AudioFeatureExtraction/audio.wav':\n",
      "  Metadata:\n",
      "    encoder         : Lavf59.16.100\n",
      "  Duration: 00:01:05.22, bitrate: 1411 kb/s\n",
      "  Stream #0:0: Audio: pcm_s16le ([1][0][0][0] / 0x0001), 44100 Hz, stereo, s16, 1411 kb/s\n",
      "Stream mapping:\n",
      "  Stream #0:0 -> #0:0 (pcm_s16le (native) -> pcm_s16le (native))\n",
      "Press [q] to stop, [?] for help\n",
      "Output #0, wav, to 'audio10.wav':\n",
      "  Metadata:\n",
      "    ISFT            : Lavf59.16.100\n",
      "  Stream #0:0: Audio: pcm_s16le ([1][0][0][0] / 0x0001), 44100 Hz, stereo, s16, 1411 kb/s\n",
      "    Metadata:\n",
      "      encoder         : Lavc59.18.100 pcm_s16le\n",
      "size=       4kB time=00:00:00.02 bitrate=1438.1kbits/s speed=N/A    \r",
      "size=    1761kB time=00:00:10.22 bitrate=1411.3kbits/s speed=2.08e+03x    \n",
      "video:0kB audio:1761kB subtitle:0kB other streams:0kB global headers:0kB muxing overhead: 0.004325%\n"
     ]
    },
    {
     "data": {
      "text/plain": [
       "0"
      ]
     },
     "execution_count": 15,
     "metadata": {},
     "output_type": "execute_result"
    }
   ],
   "source": [
    "command = \"ffmpeg -ss 55 -i ../AudioFeatureExtraction/audio.wav audio10.wav\"\n",
    "\n",
    "subprocess.call(command, shell=True)"
   ]
  },
  {
   "cell_type": "code",
   "execution_count": null,
   "id": "b3e8d38a",
   "metadata": {},
   "outputs": [],
   "source": []
  },
  {
   "cell_type": "code",
   "execution_count": null,
   "id": "03d934ee",
   "metadata": {},
   "outputs": [],
   "source": []
  }
 ],
 "metadata": {
  "kernelspec": {
   "display_name": "Python 3 (ipykernel)",
   "language": "python",
   "name": "python3"
  },
  "language_info": {
   "codemirror_mode": {
    "name": "ipython",
    "version": 3
   },
   "file_extension": ".py",
   "mimetype": "text/x-python",
   "name": "python",
   "nbconvert_exporter": "python",
   "pygments_lexer": "ipython3",
   "version": "3.9.6"
  }
 },
 "nbformat": 4,
 "nbformat_minor": 5
}
